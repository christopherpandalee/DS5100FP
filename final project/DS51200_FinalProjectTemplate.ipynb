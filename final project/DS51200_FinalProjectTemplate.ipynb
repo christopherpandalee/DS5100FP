{
 "cells": [
  {
   "cell_type": "markdown",
   "id": "45762487-d33f-486d-8e38-2cdea04e3528",
   "metadata": {},
   "source": [
    "# Final Project Report\n",
    "\n",
    "* Class: DS 5100\n",
    "* Student Name: Christopher Lee\n",
    "* Student Net ID: dkn7rm\n",
    "* This URL: https://github.com/christopherpandalee/DS5100FP/blob/main/final%20project/DS51200_FinalProjectTemplate.ipynb"
   ]
  },
  {
   "cell_type": "markdown",
   "id": "acf756c1-ecaa-41dc-b6ca-d566eb94560b",
   "metadata": {},
   "source": [
    "# Instructions\n",
    "\n",
    "Follow the instructions in the Final Project isntructions notebook and put evidence of your work in this notebook.\n",
    "\n",
    "Total points for each subsection under **Deliverables** and **Scenarios** are given in parentheses.\n",
    "\n",
    "Breakdowns of points within subsections are specified within subsection instructions as bulleted lists.\n",
    "\n",
    "This project is worth **50 points**."
   ]
  },
  {
   "cell_type": "markdown",
   "id": "89dc7a32-f682-4402-8c1e-b6ccdb3e0e39",
   "metadata": {},
   "source": [
    "# Deliverables"
   ]
  },
  {
   "cell_type": "markdown",
   "id": "d32cb273-9a40-4909-a7ce-51f6e4958d3c",
   "metadata": {},
   "source": [
    "## The Monte Carlo Module (10)\n",
    "\n",
    "- URL included, appropriately named (1).\n",
    "- Includes all three specified classes (3).\n",
    "- Includes at least all 12 specified methods (6; .5 each)."
   ]
  },
  {
   "cell_type": "markdown",
   "id": "f5f3b070-de9e-4de9-bfae-8974d184aa28",
   "metadata": {},
   "source": [
    "Put the URL to your GitHub repo here.\n",
    "\n",
    "Repo URL: https://github.com/christopherpandalee/DS5100FP/tree/main"
   ]
  },
  {
   "cell_type": "markdown",
   "id": "162370fb-3729-4c85-b040-8c25b2c966d2",
   "metadata": {},
   "source": [
    "Paste a copyy of your module here.\n",
    "\n",
    "NOTE: Paste as text, not as code. Use triple backticks to wrap your code blocks."
   ]
  },
  {
   "cell_type": "markdown",
   "id": "1d60ee30-3258-4b60-9366-406c868d0a12",
   "metadata": {},
   "source": [
    "```\n",
    "class CreateDice:\n",
    "    '''\n",
    "    PURPOSE: Creates a dice. Initializes using faces listed in a numpy array.\n",
    "    \n",
    "    METHODS:\n",
    "    - .change_weights(face2change, newWeight)\n",
    "    - .roll_dice(rolls=1)\n",
    "    - .show_current_state()\n",
    "    '''\n",
    "    \n",
    "    def __init__(self, diefaces):\n",
    "        '''\n",
    "        PURPOSE: CreateDie class initializer. Throws error if input is not a numpy array \n",
    "        or the die does not have all different faces.\n",
    "        \n",
    "        INPUTS:\n",
    "        diefaces - numpy array of list of die faces desired\n",
    "        \n",
    "        OUTPUTS:\n",
    "        None\n",
    "        \n",
    "        Note: Instantiates die class as a pd.DataFrame\n",
    "        '''\n",
    "        # create default weights of 1\n",
    "        weights = np.ones(len(diefaces))\n",
    "        \n",
    "        if type(diefaces) != np.ndarray:\n",
    "            raise TypeError(\"Not a numpy array\")\n",
    "            \n",
    "        if len(np.unique(diefaces)) != len(diefaces):\n",
    "            raise ValueError(\"Need all unique values\")\n",
    "        \n",
    "        # private attribute -> data frame of die faces as index and current weights of each die face\n",
    "        self._createdDie = pd.DataFrame(weights, columns = [\"weights\"], index = diefaces)\n",
    "        \n",
    "    def change_weights(self, face2change, newWeight):\n",
    "        '''\n",
    "        PURPOSE: Changes the weight of a certain die face\n",
    "        \n",
    "        INPUTS:\n",
    "        face2change - a matching face of instantiated die, data type dependent on die face\n",
    "                    - throws error if this input does not match any of the faces of the die\n",
    "        newWeight - int or float\n",
    "                  - desired new weight for the die face being changed\n",
    "                  - throws error if new weight is not int or float\n",
    "        \n",
    "        OUTPUT:\n",
    "        None\n",
    "        \n",
    "        Note: This method will change the instantiated die dateframe.\n",
    "        '''\n",
    "        \n",
    "        \n",
    "        if (not any(face2change == self._createdDie.index)): # checks if dice face to change is in existing array of die faces\n",
    "            raise IndexError(\"Die face to change not in existing die faces.\")\n",
    "        \n",
    "        try:\n",
    "            t_newWeight = float(newWeight) # tries to change weight to float\n",
    "            # find index of dice face, then change corresponding weight in weight array\n",
    "            self._createdDie.weights[self._createdDie.index == face2change] = t_newWeight\n",
    "        except:\n",
    "            return \"New weight is not a number.\"\n",
    "        \n",
    "    def roll_dice(self, rolls = 1):\n",
    "        '''\n",
    "        PURPOSE: Rolls die the inputted amount of times. Defaults to 1 roll.\n",
    "        \n",
    "        INPUT: \n",
    "        rolls - int, desired number of rolls for die\n",
    "        \n",
    "        OUTPUT:\n",
    "        list - list of roll results\n",
    "        \n",
    "        Note: weights of each die face is taken into consideration when rolling.\n",
    "        '''\n",
    "        # create probability array so the array of weights sums to 1 -> for use with np.random.choice function below\n",
    "        prob_array = self._createdDie.weights / sum(self._createdDie.weights)\n",
    "        # np.random.choice(array of die faces, # of rolls to do, probability array)\n",
    "        # rolls the die the specified number of times, returns a list\n",
    "        return np.random.choice(self._createdDie.index, rolls, p = prob_array).tolist()\n",
    "    \n",
    "    def show_current_state(self):\n",
    "        '''\n",
    "        PURPOSE: Shows current state of die by returning privately created die\n",
    "        \n",
    "        INPUT:\n",
    "        None\n",
    "        \n",
    "        OUTPUT:\n",
    "        pd.DataFrame - dateframe of current die\n",
    "                     - index -> die faces\n",
    "                     - columns -> weights\n",
    "        '''\n",
    "        return self._createdDie\n",
    "                \n",
    "\n",
    "        \n",
    "class GamePlay:\n",
    "    '''\n",
    "    PURPOSE: Plays / rolls a list of dice. Initializes using a list of die class dice\n",
    "    \n",
    "    METHODS:\n",
    "    - .play_dice(numrolls)\n",
    "    - .show_results(size=\"wide\")\n",
    "    '''\n",
    "    \n",
    "    def __init__(self, listofdice):\n",
    "        '''\n",
    "        PURPOSE: GamePlay class initializer. Throws error if objects in inputted list are not die class objects \n",
    "                 or if the dice in the list have different faces.\n",
    "        \n",
    "        INPUT: \n",
    "        listofdice - list, list of die class dice\n",
    "                   - dice in list need to have the same faces\n",
    "        \n",
    "        OUTPUT:\n",
    "        None\n",
    "        '''\n",
    "        self.listofdice = listofdice\n",
    "        \n",
    "        # all() -> returns true if everything in list is true, else returns false\n",
    "        # if not all true, ie if at least one is false, raise error\n",
    "        # purpose: checks to make sure all dice in dice list are dice objects from CreateDice class\n",
    "        if not all(isinstance(die, CreateDice) for die in self.listofdice):\n",
    "            raise TypeError(\"Not a dice in list\")\n",
    "        \n",
    "        # because all the dice need to have the same faces, it's arbitrary to pick the first one of the list\n",
    "        # any dice needs to equal any other dice\n",
    "        for die in self.listofdice:\n",
    "            if (all(die.show_current_state().index != self.listofdice[0].show_current_state().index)):\n",
    "                raise ValueError(\"All dice need the same faces\")\n",
    "    \n",
    "    def play_dice(self, numrolls):\n",
    "        '''\n",
    "        PURPOSE: Rolls the dice in the list of dice the inputted amount of times. Stores results in a pd.DataFrame.\n",
    "        \n",
    "        INPUT:\n",
    "        numrolls - int, number of rolls desired\n",
    "        \n",
    "        OUTPUT:\n",
    "        None\n",
    "        \n",
    "        Note: Results of rolls are stored in a dataframe. Index -> rolls, columns -> each die in dice list\n",
    "        '''\n",
    "        self.numrolls = numrolls\n",
    "        self.results = []\n",
    "        \n",
    "        # for each die in initilized list of dice\n",
    "        # append the results of the number of rolls specified in this method\n",
    "        for die in self.listofdice:\n",
    "            self.results.append(die.roll_dice(numrolls))\n",
    "        \n",
    "        self.dicecolumns = [n for n in range(len(self.results))] # dice column names -> index of dice in list of dice\n",
    "        self.resultsT = [list(i) for i in zip(*self.results)] # transposed the results list for data frame constructor\n",
    "        self.diceindex = [\"Roll #\"+str(m) for m in range(1, len(self.resultsT)+1)] # list of index names\n",
    "            \n",
    "        # final data frame construction\n",
    "        self._resultspd = pd.DataFrame(self.resultsT, index = self.diceindex, columns = self.dicecolumns)\n",
    "        self._resultspd.index.name = \"Rolls\"\n",
    "        \n",
    "    def show_results(self, size = \"wide\"):\n",
    "        '''\n",
    "        PURPOSE: Shows the results of the rolls in a pd.DataFrame. Can be shown as a wide or narrow dataframe.\n",
    "        \n",
    "        INPUT:\n",
    "        size - string, 2 options: \"wide\", \"narrow\"\n",
    "             - defaults to \"wide\"\n",
    "             - throws error if not one of the two options\n",
    "             \n",
    "        OUTPUT:\n",
    "        pd.DataFrame - dataframe of the results of the rolls\n",
    "                     - returns private results dataframe from .play_dice() method\n",
    "        '''\n",
    "        self.size = size\n",
    "            \n",
    "        try: #tries to convert input to string\n",
    "            t_size = str(self.size)\n",
    "        except:\n",
    "            return \"Narrow or wide only\"\n",
    "        \n",
    "        # if string conversion is successful\n",
    "        # if input is not equal to narrow or wide, throw error\n",
    "        if (t_size.lower() != \"narrow\") & (t_size.lower() != \"wide\") :\n",
    "            raise ValueError(\"Narrow or wide only\")\n",
    "            #raise TypeError(\"Narrow or wide data frame only\")\n",
    "        \n",
    "        if (t_size.lower() == \"narrow\"):\n",
    "            return pd.DataFrame(self._resultspd.stack(), columns = [\"Results\"])\n",
    "        else:\n",
    "            return self._resultspd\n",
    "        \n",
    "        \n",
    "        \n",
    "class AnalyzePlay:\n",
    "    '''\n",
    "    PURPOSE: Provides some methods for analyzing the results of rolling dice. Initializes using a GamePlay class object.\n",
    "    \n",
    "    METHODS:\n",
    "    - .find_jackpots()\n",
    "    - .find_face_counts()\n",
    "    - .count_combo()\n",
    "    - .count_perm()\n",
    "    '''\n",
    "    \n",
    "    def __init__(self, game):\n",
    "        '''\n",
    "        PURPORSE: AnalyzePlay class object initializer. Throws error if input is not a GamePlay class object.\n",
    "        \n",
    "        INPUT:\n",
    "        game - GamePlay class object\n",
    "        \n",
    "        OUTPUT:\n",
    "        None\n",
    "        '''\n",
    "        self.game = game\n",
    "        # checks to make sure input for initializer is a game object from GamePlay class\n",
    "        if (not isinstance(game, GamePlay)):\n",
    "            raise TypeError(\"Not a game object.\")\n",
    "            \n",
    "    def find_jackpots(self):\n",
    "        '''\n",
    "        PURPOSE: Finds the number of rows that have all the same faces\n",
    "        \n",
    "        INPUT:\n",
    "        None\n",
    "        \n",
    "        OUTPUT:\n",
    "        int - returns the number of rows that have all the same faces\n",
    "        '''\n",
    "        # rolls -> the data frame of roll results from gameplay class\n",
    "        rolls = self.game.show_results()\n",
    "        # df.nuniquie(axis=1) checks the rows. if all values in row are same, returns 1\n",
    "        # rolls[boolean] selects all rows that are the same value\n",
    "        # len() -> number of jackpots\n",
    "        num_jackpots = len(rolls[rolls.nunique(axis=1) == 1])\n",
    "        return num_jackpots\n",
    "    \n",
    "    def find_face_counts(self):\n",
    "        '''\n",
    "        PURPOSE: Counts the faces that are rolled\n",
    "        \n",
    "        INPUT:\n",
    "        None\n",
    "        \n",
    "        OUTPUT:\n",
    "        pd.DataFrame - returns a dataframe of the counts of each die face\n",
    "                     - index -> rolls\n",
    "                     - columns -> faces\n",
    "                     - cells -> count of rolls of each face\n",
    "        '''\n",
    "        # index for dataframe -> list comprehension using results dataframe indices from GamePlay class\n",
    "        self.countsindex = [\"Roll #\"+str(m+1) for m in range(len(self.game.show_results().index))]\n",
    "        # columns for dataframe -> uses index from one of the dice in the list of dice to get dice faces\n",
    "        # since all the dice are the same, it doesn't matter which one to use\n",
    "        self.countscol = [n for n in self.game.listofdice[0].show_current_state().index]\n",
    "        counts = []\n",
    "        # iterate over rows\n",
    "        for rolls in self.game.show_results().index:\n",
    "            # jfc this method chaining is out of control\n",
    "            # dataframe from GamePlay class - iterate over rows using .loc - counts unique values - sorts unique values by index - add 0s for missing values\n",
    "            # adding 0s method (.reindex) uses same list of dice faces from self.countscol\n",
    "            sorted_counts = self.game.show_results().loc[rolls].value_counts().sort_index().reindex((self.game.listofdice[0].show_current_state().index), fill_value=0)\n",
    "            counts.append(sorted_counts)\n",
    "        # dataframe constructor\n",
    "        self.counts = pd.DataFrame(counts, index = self.countsindex, columns = self.countscol)\n",
    "        return self.counts\n",
    "    \n",
    "    def count_combo(self):\n",
    "        '''\n",
    "        PURPOSE: Find the number of combinations (order-independent) in the results dataframe\n",
    "        \n",
    "        INPUT:\n",
    "        None\n",
    "        \n",
    "        OUTPUT:\n",
    "        pd.Dataframe - returns a dataframe of the unique rows and the count of each time that happens\n",
    "                     - index -> unique rows, order independent\n",
    "                     - columns -> count of each unique row\n",
    "        '''\n",
    "        # magic\n",
    "        # this was supposed to be a multi-indexed dataframe, but I couldn't figure it out\n",
    "        # results data frame -> apply a sort to each row, by column (axis 1) -> count each sorted row\n",
    "        return pd.DataFrame(self.game.show_results().apply(lambda row: sorted(row.values), axis=1).value_counts())\n",
    "    \n",
    "    def count_perm(self):\n",
    "        '''\n",
    "        PURPOSE: Find the number of permutations (order-dependent) in the results dataframe\n",
    "        \n",
    "        INPUT:\n",
    "        None\n",
    "        \n",
    "        OUTPUT:\n",
    "        pd.Dataframe - returns a dataframe of the unique rows and the count of each time that happens\n",
    "                     - index -> unique rows, order dependent\n",
    "                     - columns -> count of each unique row\n",
    "        '''\n",
    "        # also magic\n",
    "        # this method chaining is out of control\n",
    "        # results data frame -> groupby columns -> size returns each unique row -> reset index renames the newly created column of counts of unique rows\n",
    "        return pd.DataFrame(self.game.show_results().groupby(list(self.game.show_results().columns)).size().reset_index(name=\"count\"))\n",
    "        \n",
    "```"
   ]
  },
  {
   "cell_type": "markdown",
   "id": "6377727a-8f0a-491e-9f1c-d9dc225edd35",
   "metadata": {},
   "source": [
    "## Unitest Module (2)\n",
    "\n",
    "Paste a copy of your test module below.\n",
    "\n",
    "NOTE: Paste as text, not as code. Use triple backticks to wrap your code blocks.\n",
    "\n",
    "- All methods have at least one test method (1).\n",
    "- Each method employs one of Unittest's Assert methods (1)."
   ]
  },
  {
   "cell_type": "markdown",
   "id": "4d808280-d9bd-47b3-b9ea-41600dfb41e8",
   "metadata": {},
   "source": [
    "```\n",
    "import pandas as pd\n",
    "import numpy as np\n",
    "import unittest\n",
    "from montecarlo import CreateDice, GamePlay, AnalyzePlay\n",
    "\n",
    "\n",
    "class MCTestSuite(unittest.TestCase):\n",
    "    \n",
    "    def test_1_change_weights(self):\n",
    "        testDice1 = CreateDice(np.array([\"H\", \"T\"]))\n",
    "        expected_weights = [1, 6]\n",
    "        testDice1.change_weights(\"T\", 6)\n",
    "        test_assert1 = all(expected_weights == testDice1.show_current_state().weights)\n",
    "        self.assertTrue(test_assert1)\n",
    "        \n",
    "    def test_2_change_weights(self):\n",
    "        testDice2 = CreateDice(np.array([1,2,3,4,5,6]))\n",
    "        expected_weights = [1,1,1,6,1,1]\n",
    "        testDice2.change_weights(4,6)\n",
    "        test_assert2 = all(expected_weights == testDice2.show_current_state().weights)\n",
    "        self.assertTrue(test_assert2)\n",
    "        \n",
    "    def test_3_roll_dice(self):\n",
    "        testDice3 = CreateDice(np.array([\"H\", \"T\"]))\n",
    "        expected_rolls = 10\n",
    "        self.assertEqual(expected_rolls, len(testDice3.roll_dice(10)))\n",
    "\n",
    "    def test_4_show_current_state(self):\n",
    "        testDice4 = CreateDice(np.array([\"H\", \"T\"]))\n",
    "        expected_index = [\"H\", \"T\"]\n",
    "        test_assert4 = all(expected_index == testDice4.show_current_state().index)\n",
    "        self.assertTrue(test_assert4)\n",
    "        \n",
    "    def test_5_show_current_state(self):\n",
    "        testDice5 = CreateDice(np.array([\"H\", \"T\"]))\n",
    "        expected_len = 2\n",
    "        self.assertEqual(expected_len, len(testDice5.show_current_state()))\n",
    "        \n",
    "    def test_6_show_current_state(self):\n",
    "        testDice6 = CreateDice(np.array([\"H\", \"T\"]))\n",
    "        expected_weights = [1,1]\n",
    "        test_assert6 = all(expected_weights == testDice6.show_current_state().weights)\n",
    "        self.assertTrue(test_assert6)\n",
    "        \n",
    "    def test_7_play_dice(self):\n",
    "        testDice7 = CreateDice(np.array([\"H\", \"T\"]))\n",
    "        testGame7 = GamePlay([testDice7, testDice7, testDice7])\n",
    "        testGame7.play_dice(10)\n",
    "        expected_num_rolls = 10\n",
    "        self.assertEqual(expected_num_rolls, len(testGame7.show_results().index))\n",
    "        \n",
    "    def test_8_play_dice(self):\n",
    "        testDice8 = CreateDice(np.array([\"H\", \"T\"]))\n",
    "        testGame8 = GamePlay([testDice8, testDice8, testDice8])\n",
    "        testGame8.play_dice(5)\n",
    "        expected_columns = 3\n",
    "        self.assertEqual(expected_columns, len(testGame8.show_results().columns))\n",
    "        \n",
    "    def test_9_show_results(self):\n",
    "        testDice9 = CreateDice(np.array([\"H\", \"T\"]))\n",
    "        testGame9 = GamePlay([testDice9, testDice9, testDice9])\n",
    "        testGame9.play_dice(5)\n",
    "        expected_num_rolls = 5\n",
    "        expected_columns = 3\n",
    "        test_assert9_1 = expected_num_rolls == len(testGame9.show_results().index)\n",
    "        test_assert9_2 = expected_columns == len(testGame9.show_results().columns)\n",
    "        self.assertTrue(test_assert9_1 & test_assert9_2)\n",
    "        \n",
    "    def test_10_find_jackpots(self):\n",
    "        testDice10 = CreateDice(np.array([1]))\n",
    "        testGame10 = GamePlay([testDice10, testDice10, testDice10])\n",
    "        testGame10.play_dice(10)\n",
    "        testAnalyze10 = AnalyzePlay(testGame10)\n",
    "        expected_jackpots = 10\n",
    "        self.assertEqual(expected_jackpots, testAnalyze10.find_jackpots())\n",
    "        \n",
    "    def test_11_find_face_counts(self):\n",
    "        testDice11 = CreateDice(np.array([\"H\", \"T\"]))\n",
    "        testGame11 = GamePlay([testDice11, testDice11, testDice11])\n",
    "        testGame11.play_dice(5)\n",
    "        testAnalyze11 = AnalyzePlay(testGame11)\n",
    "        expected_count = len(testGame11.show_results().columns)\n",
    "        test_count = testAnalyze11.find_face_counts().sum(axis=1)[0]\n",
    "        self.assertEqual(expected_count, test_count)\n",
    "        \n",
    "    def test_12_count_combo(self):\n",
    "        pass\n",
    "    \n",
    "    def test_13_count_perm(self):\n",
    "        pass\n",
    "    \n",
    "    def test_14_roll_dice(self):\n",
    "        testDice14 = CreateDice(np.array([\"H\", \"T\"]))\n",
    "        self.assertIsInstance(testDice14.roll_dice(1), list)\n",
    "        \n",
    "    def test_15_show_current_state(self):\n",
    "        testDice15 = CreateDice(np.array([\"H\", \"T\"]))\n",
    "        self.assertIsInstance(testDice15.show_current_state(), pd.DataFrame)\n",
    "        \n",
    "    def test_16_show_results(self):\n",
    "        testDice16 = CreateDice(np.array([\"H\", \"T\"]))\n",
    "        testGame16 = GamePlay([testDice16, testDice16, testDice16])\n",
    "        testGame16.play_dice(5)\n",
    "        self.assertIsInstance(testGame16.show_results(), pd.DataFrame)\n",
    "        \n",
    "    def test_17_find_jackpots(self):\n",
    "        testDice17 = CreateDice(np.array([\"H\", \"T\"]))\n",
    "        testGame17 = GamePlay([testDice17, testDice17, testDice17])\n",
    "        testGame17.play_dice(5)\n",
    "        testAnalyze17 = AnalyzePlay(testGame17)\n",
    "        self.assertIsInstance(testAnalyze17.find_jackpots(), int)\n",
    "            \n",
    "    def test_18_find_face_counts(self):\n",
    "        testDice18 = CreateDice(np.array([\"H\", \"T\"]))\n",
    "        testGame18 = GamePlay([testDice18, testDice18, testDice18])\n",
    "        testGame18.play_dice(5)\n",
    "        testAnalyze18 = AnalyzePlay(testGame18)\n",
    "        self.assertIsInstance(testAnalyze18.find_face_counts(), pd.DataFrame)\n",
    "\n",
    "    def test_19_count_combo(self):\n",
    "        testDice19 = CreateDice(np.array([\"H\", \"T\"]))\n",
    "        testGame19 = GamePlay([testDice19, testDice19, testDice19])\n",
    "        testGame19.play_dice(5)\n",
    "        testAnalyze19 = AnalyzePlay(testGame19)\n",
    "        self.assertIsInstance(testAnalyze19.count_combo(), pd.DataFrame)\n",
    "    \n",
    "    def test_20_count_perm(self):\n",
    "        testDice20 = CreateDice(np.array([\"H\", \"T\"]))\n",
    "        testGame20 = GamePlay([testDice20, testDice20, testDice20])\n",
    "        testGame20.play_dice(5)\n",
    "        testAnalyze20 = AnalyzePlay(testGame20)\n",
    "        self.assertIsInstance(testAnalyze20.count_perm(), pd.DataFrame)\n",
    "\n",
    "    \n",
    "\n",
    "if __name__ == '__main__':\n",
    "    unittest.main(verbosity = 3)\n",
    "```"
   ]
  },
  {
   "cell_type": "markdown",
   "id": "3e058d03-29bc-408f-b36d-0605b4f4b8c0",
   "metadata": {
    "tags": []
   },
   "source": [
    "## Unittest Results (3)\n",
    "\n",
    "Put a copy of the results of running your tests from the command line here.\n",
    "\n",
    "Again, paste as text using triple backticks.\n",
    "\n",
    "- All 12 specified methods return OK (3; .25 each)."
   ]
  },
  {
   "cell_type": "code",
   "execution_count": 1,
   "id": "b9a68490-2830-4614-8b8a-56a3a200403c",
   "metadata": {
    "tags": []
   },
   "outputs": [
    {
     "name": "stdout",
     "output_type": "stream",
     "text": [
      "Module successfully imported\n",
      "test_10_find_jackpots (__main__.MCTestSuite.test_10_find_jackpots) ... ok\n",
      "test_11_find_face_counts (__main__.MCTestSuite.test_11_find_face_counts) ... ok\n",
      "test_12_count_combo (__main__.MCTestSuite.test_12_count_combo) ... ok\n",
      "test_13_count_perm (__main__.MCTestSuite.test_13_count_perm) ... ok\n",
      "test_14_roll_dice (__main__.MCTestSuite.test_14_roll_dice) ... ok\n",
      "test_15_show_current_state (__main__.MCTestSuite.test_15_show_current_state) ... ok\n",
      "test_16_show_results (__main__.MCTestSuite.test_16_show_results) ... ok\n",
      "test_17_find_jackpots (__main__.MCTestSuite.test_17_find_jackpots) ... ok\n",
      "test_18_find_face_counts (__main__.MCTestSuite.test_18_find_face_counts) ... ok\n",
      "test_19_count_combo (__main__.MCTestSuite.test_19_count_combo) ... ok\n",
      "test_1_change_weights (__main__.MCTestSuite.test_1_change_weights) ... ok\n",
      "test_20_count_perm (__main__.MCTestSuite.test_20_count_perm) ... ok\n",
      "test_2_change_weights (__main__.MCTestSuite.test_2_change_weights) ... ok\n",
      "test_3_roll_dice (__main__.MCTestSuite.test_3_roll_dice) ... ok\n",
      "test_4_show_current_state (__main__.MCTestSuite.test_4_show_current_state) ... ok\n",
      "test_5_show_current_state (__main__.MCTestSuite.test_5_show_current_state) ... ok\n",
      "test_6_show_current_state (__main__.MCTestSuite.test_6_show_current_state) ... ok\n",
      "test_7_play_dice (__main__.MCTestSuite.test_7_play_dice) ... ok\n",
      "test_8_play_dice (__main__.MCTestSuite.test_8_play_dice) ... ok\n",
      "test_9_show_results (__main__.MCTestSuite.test_9_show_results) ... ok\n",
      "\n",
      "----------------------------------------------------------------------\n",
      "Ran 20 tests in 0.022s\n",
      "\n",
      "OK\n"
     ]
    }
   ],
   "source": [
    "!python montecarlo_test.py"
   ]
  },
  {
   "cell_type": "markdown",
   "id": "d9ffe8c5-eb2f-4ad1-af76-a46550e4c7ac",
   "metadata": {},
   "source": [
    "## Import (1)\n",
    "\n",
    "Import your module here. This import should refer to the code in your package directory.\n",
    "\n",
    "- Module successuflly imported (1)."
   ]
  },
  {
   "cell_type": "code",
   "execution_count": 2,
   "id": "a05dffb3-e6d6-4f78-9df4-5abd0cf74ca9",
   "metadata": {
    "tags": []
   },
   "outputs": [
    {
     "name": "stdout",
     "output_type": "stream",
     "text": [
      "Module successfully imported\n"
     ]
    }
   ],
   "source": [
    "from montecarlosim.montecarlo import CreateDice, GamePlay, AnalyzePlay\n",
    "import numpy as np\n",
    "import pandas as pd\n",
    "import matplotlib.pyplot as plt"
   ]
  },
  {
   "cell_type": "markdown",
   "id": "f30c4842-65b1-4556-98b6-3fe1a07e1371",
   "metadata": {},
   "source": [
    "## Help Docs (4)\n",
    "\n",
    "Show your docstring documentation by applying `help()` to your imported module.\n",
    "\n",
    "- All methods have a docstring (3; .25 each).\n",
    "- All classes have a docstring (1; .33 each)."
   ]
  },
  {
   "cell_type": "code",
   "execution_count": 10,
   "id": "bf4fbf1f-9885-471c-a0a6-e9ca90e160de",
   "metadata": {
    "tags": []
   },
   "outputs": [
    {
     "name": "stdout",
     "output_type": "stream",
     "text": [
      "Help on module montecarlosim.montecarlo in montecarlosim:\n",
      "\n",
      "NAME\n",
      "    montecarlosim.montecarlo\n",
      "\n",
      "CLASSES\n",
      "    builtins.object\n",
      "        AnalyzePlay\n",
      "        CreateDice\n",
      "        GamePlay\n",
      "    \n",
      "    class AnalyzePlay(builtins.object)\n",
      "     |  AnalyzePlay(game)\n",
      "     |  \n",
      "     |  PURPOSE: Provides some methods for analyzing the results of rolling dice. Initializes using a GamePlay class object.\n",
      "     |  \n",
      "     |  METHODS:\n",
      "     |  - .find_jackpots()\n",
      "     |  - .find_face_counts()\n",
      "     |  - .count_combo()\n",
      "     |  - .count_perm()\n",
      "     |  \n",
      "     |  Methods defined here:\n",
      "     |  \n",
      "     |  __init__(self, game)\n",
      "     |      PURPORSE: AnalyzePlay class object initializer. Throws error if input is not a GamePlay class object.\n",
      "     |      \n",
      "     |      INPUT:\n",
      "     |      game - GamePlay class object\n",
      "     |      \n",
      "     |      OUTPUT:\n",
      "     |      None\n",
      "     |  \n",
      "     |  count_combo(self)\n",
      "     |      PURPOSE: Find the number of combinations (order-independent) in the results dataframe\n",
      "     |      \n",
      "     |      INPUT:\n",
      "     |      None\n",
      "     |      \n",
      "     |      OUTPUT:\n",
      "     |      pd.Dataframe - returns a dataframe of the unique rows and the count of each time that happens\n",
      "     |                   - index -> unique rows, order independent\n",
      "     |                   - columns -> count of each unique row\n",
      "     |  \n",
      "     |  count_perm(self)\n",
      "     |      PURPOSE: Find the number of permutations (order-dependent) in the results dataframe\n",
      "     |      \n",
      "     |      INPUT:\n",
      "     |      None\n",
      "     |      \n",
      "     |      OUTPUT:\n",
      "     |      pd.Dataframe - returns a dataframe of the unique rows and the count of each time that happens\n",
      "     |                   - index -> unique rows, order dependent\n",
      "     |                   - columns -> count of each unique row\n",
      "     |  \n",
      "     |  find_face_counts(self)\n",
      "     |      PURPOSE: Counts the faces that are rolled\n",
      "     |      \n",
      "     |      INPUT:\n",
      "     |      None\n",
      "     |      \n",
      "     |      OUTPUT:\n",
      "     |      pd.DataFrame - returns a dataframe of the counts of each die face\n",
      "     |                   - index -> rolls\n",
      "     |                   - columns -> faces\n",
      "     |                   - cells -> count of rolls of each face\n",
      "     |  \n",
      "     |  find_jackpots(self)\n",
      "     |      PURPOSE: Finds the number of rows that have all the same faces\n",
      "     |      \n",
      "     |      INPUT:\n",
      "     |      None\n",
      "     |      \n",
      "     |      OUTPUT:\n",
      "     |      int - returns the number of rows that have all the same faces\n",
      "     |  \n",
      "     |  ----------------------------------------------------------------------\n",
      "     |  Data descriptors defined here:\n",
      "     |  \n",
      "     |  __dict__\n",
      "     |      dictionary for instance variables (if defined)\n",
      "     |  \n",
      "     |  __weakref__\n",
      "     |      list of weak references to the object (if defined)\n",
      "    \n",
      "    class CreateDice(builtins.object)\n",
      "     |  CreateDice(diefaces)\n",
      "     |  \n",
      "     |  PURPOSE: Creates a dice. Initializes using faces listed in a numpy array.\n",
      "     |  \n",
      "     |  METHODS:\n",
      "     |  - .change_weights(face2change, newWeight)\n",
      "     |  - .roll_dice(rolls=1)\n",
      "     |  - .show_current_state()\n",
      "     |  \n",
      "     |  Methods defined here:\n",
      "     |  \n",
      "     |  __init__(self, diefaces)\n",
      "     |      PURPOSE: CreateDie class initializer. Throws error if input is not a numpy array \n",
      "     |      or the die does not have all different faces.\n",
      "     |      \n",
      "     |      INPUTS:\n",
      "     |      diefaces - numpy array of list of die faces desired\n",
      "     |      \n",
      "     |      OUTPUTS:\n",
      "     |      None\n",
      "     |      \n",
      "     |      Note: Instantiates die class as a pd.DataFrame\n",
      "     |  \n",
      "     |  change_weights(self, face2change, newWeight)\n",
      "     |      PURPOSE: Changes the weight of a certain die face\n",
      "     |      \n",
      "     |      INPUTS:\n",
      "     |      face2change - a matching face of instantiated die, data type dependent on die face\n",
      "     |                  - throws error if this input does not match any of the faces of the die\n",
      "     |      newWeight - int or float\n",
      "     |                - desired new weight for the die face being changed\n",
      "     |                - throws error if new weight is not int or float\n",
      "     |      \n",
      "     |      OUTPUT:\n",
      "     |      None\n",
      "     |      \n",
      "     |      Note: This method will change the instantiated die dateframe.\n",
      "     |  \n",
      "     |  roll_dice(self, rolls=1)\n",
      "     |      PURPOSE: Rolls die the inputted amount of times. Defaults to 1 roll.\n",
      "     |      \n",
      "     |      INPUT: \n",
      "     |      rolls - int, desired number of rolls for die\n",
      "     |      \n",
      "     |      OUTPUT:\n",
      "     |      list - list of roll results\n",
      "     |      \n",
      "     |      Note: weights of each die face is taken into consideration when rolling.\n",
      "     |  \n",
      "     |  show_current_state(self)\n",
      "     |      PURPOSE: Shows current state of die by returning privately created die\n",
      "     |      \n",
      "     |      INPUT:\n",
      "     |      None\n",
      "     |      \n",
      "     |      OUTPUT:\n",
      "     |      pd.DataFrame - dateframe of current die\n",
      "     |                   - index -> die faces\n",
      "     |                   - columns -> weights\n",
      "     |  \n",
      "     |  ----------------------------------------------------------------------\n",
      "     |  Data descriptors defined here:\n",
      "     |  \n",
      "     |  __dict__\n",
      "     |      dictionary for instance variables (if defined)\n",
      "     |  \n",
      "     |  __weakref__\n",
      "     |      list of weak references to the object (if defined)\n",
      "    \n",
      "    class GamePlay(builtins.object)\n",
      "     |  GamePlay(listofdice)\n",
      "     |  \n",
      "     |  PURPOSE: Plays / rolls a list of dice. Initializes using a list of die class dice\n",
      "     |  \n",
      "     |  METHODS:\n",
      "     |  - .play_dice(numrolls)\n",
      "     |  - .show_results(size=\"wide\")\n",
      "     |  \n",
      "     |  Methods defined here:\n",
      "     |  \n",
      "     |  __init__(self, listofdice)\n",
      "     |      PURPOSE: GamePlay class initializer. Throws error if objects in inputted list are not die class objects \n",
      "     |               or if the dice in the list have different faces.\n",
      "     |      \n",
      "     |      INPUT: \n",
      "     |      listofdice - list, list of die class dice\n",
      "     |                 - dice in list need to have the same faces\n",
      "     |      \n",
      "     |      OUTPUT:\n",
      "     |      None\n",
      "     |  \n",
      "     |  play_dice(self, numrolls)\n",
      "     |      PURPOSE: Rolls the dice in the list of dice the inputted amount of times. Stores results in a pd.DataFrame.\n",
      "     |      \n",
      "     |      INPUT:\n",
      "     |      numrolls - int, number of rolls desired\n",
      "     |      \n",
      "     |      OUTPUT:\n",
      "     |      None\n",
      "     |      \n",
      "     |      Note: Results of rolls are stored in a dataframe. Index -> rolls, columns -> each die in dice list\n",
      "     |  \n",
      "     |  show_results(self, size='wide')\n",
      "     |      PURPOSE: Shows the results of the rolls in a pd.DataFrame. Can be shown as a wide or narrow dataframe.\n",
      "     |      \n",
      "     |      INPUT:\n",
      "     |      size - string, 2 options: \"wide\", \"narrow\"\n",
      "     |           - defaults to \"wide\"\n",
      "     |           - throws error if not one of the two options\n",
      "     |           \n",
      "     |      OUTPUT:\n",
      "     |      pd.DataFrame - dataframe of the results of the rolls\n",
      "     |                   - returns private results dataframe from .play_dice() method\n",
      "     |  \n",
      "     |  ----------------------------------------------------------------------\n",
      "     |  Data descriptors defined here:\n",
      "     |  \n",
      "     |  __dict__\n",
      "     |      dictionary for instance variables (if defined)\n",
      "     |  \n",
      "     |  __weakref__\n",
      "     |      list of weak references to the object (if defined)\n",
      "\n",
      "FILE\n",
      "    /sfs/gpfs/tardis/home/dkn7rm/DS5100FP/final project/montecarlosim/montecarlo.py\n",
      "\n",
      "\n"
     ]
    }
   ],
   "source": [
    "help(\"montecarlosim.montecarlo\")"
   ]
  },
  {
   "cell_type": "markdown",
   "id": "a9defa84-b395-4966-bd1c-5c6c2bb7ed68",
   "metadata": {},
   "source": [
    "## `README.md` File (3)\n",
    "\n",
    "Provide link to the README.md file of your project's repo.\n",
    "\n",
    "- Metadata section or info present (1).\n",
    "- Synopsis section showing how each class is called (1). (All must be included.)\n",
    "- API section listing all classes and methods (1). (All must be included.)"
   ]
  },
  {
   "cell_type": "markdown",
   "id": "ee090b33-d593-48a0-bf35-e739cea0942c",
   "metadata": {},
   "source": [
    "URL: https://github.com/christopherpandalee/DS5100FP/blob/main/README.md"
   ]
  },
  {
   "cell_type": "markdown",
   "id": "108604c8-8827-42ef-ab59-6b25428fc0ca",
   "metadata": {},
   "source": [
    "## Successful installation (2)\n",
    "\n",
    "Put a screenshot or paste a copy of a terminal session where you successfully install your module with pip.\n",
    "\n",
    "If pasting text, use a preformatted text block to show the results.\n",
    "\n",
    "- Installed with `pip` (1).\n",
    "- Successfully installed message appears (1)."
   ]
  },
  {
   "cell_type": "code",
   "execution_count": 11,
   "id": "47eb408c-9919-4fa9-92c6-8ed0f80a5daa",
   "metadata": {
    "tags": []
   },
   "outputs": [
    {
     "name": "stdout",
     "output_type": "stream",
     "text": [
      "Defaulting to user installation because normal site-packages is not writeable\n",
      "Obtaining file:///sfs/gpfs/tardis/home/dkn7rm/DS5100FP/final%20project\n",
      "  Preparing metadata (setup.py) ... \u001b[?25ldone\n",
      "\u001b[?25hInstalling collected packages: montecarlosim\n",
      "  Attempting uninstall: montecarlosim\n",
      "    Found existing installation: montecarlosim 0.1\n",
      "    Uninstalling montecarlosim-0.1:\n",
      "      Successfully uninstalled montecarlosim-0.1\n",
      "  Running setup.py develop for montecarlosim\n",
      "Successfully installed montecarlosim-0.1\n"
     ]
    }
   ],
   "source": [
    "!pip install -e ."
   ]
  },
  {
   "cell_type": "markdown",
   "id": "7c44695d-d1b3-4edf-9f94-e64d7446f199",
   "metadata": {},
   "source": [
    "# Scenarios\n",
    "\n",
    "Use code blocks to perform the tasks for each scenario.\n",
    "\n",
    "Be sure the outputs are visible before submitting."
   ]
  },
  {
   "cell_type": "markdown",
   "id": "e2479eae-6fc9-44cd-b8d7-9b22cb501f2a",
   "metadata": {
    "tags": []
   },
   "source": [
    "## Scenario 1: A 2-headed Coin (9)\n",
    "\n",
    "Task 1. Create a fair coin (with faces $H$ and $T$) and one unfair coin in which one of the faces has a weight of $5$ and the others $1$.\n",
    "\n",
    "- Fair coin created (1).\n",
    "- Unfair coin created with weight as specified (1)."
   ]
  },
  {
   "cell_type": "code",
   "execution_count": 12,
   "id": "55ce498e-c75f-4425-9e3e-b635bd6cd9e1",
   "metadata": {},
   "outputs": [],
   "source": [
    "faircoin = CreateDice(np.array([\"H\", \"T\"]))\n",
    "unfaircoin = CreateDice(np.array([\"H\", \"T\"]))\n",
    "unfaircoin.change_weights(\"H\", 5)"
   ]
  },
  {
   "cell_type": "markdown",
   "id": "02b272ab-99da-4b6e-ac2a-555b73e09c07",
   "metadata": {},
   "source": [
    "Task 2. Play a game of $1000$ flips with two fair dice.\n",
    "\n",
    "- Play method called correclty and without error (1)."
   ]
  },
  {
   "cell_type": "code",
   "execution_count": 13,
   "id": "65c92601-d32d-4326-b215-74953aee27f2",
   "metadata": {},
   "outputs": [],
   "source": [
    "fairgame = GamePlay([faircoin, faircoin])\n",
    "fairgame.play_dice(1000)"
   ]
  },
  {
   "cell_type": "markdown",
   "id": "7d9c3dc8-22c1-4cae-81fb-d68d774a05d1",
   "metadata": {},
   "source": [
    "Task 3. Play another game (using a new Game object) of $1000$ flips, this time using two unfair dice and one fair die. For the second unfair die, you can use the same die object twice in the list of dice you pass to the Game object.\n",
    "\n",
    "- New game object created (1).\n",
    "- Play method called correclty and without error (1)."
   ]
  },
  {
   "cell_type": "code",
   "execution_count": 14,
   "id": "d4098bed-1eb2-4084-8d5e-9fda07c3be43",
   "metadata": {},
   "outputs": [],
   "source": [
    "unfairgame = GamePlay([unfaircoin, unfaircoin, faircoin])\n",
    "unfairgame.play_dice(1000)"
   ]
  },
  {
   "cell_type": "markdown",
   "id": "f690ebfc-fe71-4eb2-976d-7ac80ca6c23f",
   "metadata": {},
   "source": [
    "Task 4. For each game, use an Analyzer object to determine the raw frequency of jackpots — i.e. getting either all $H$s or all $T$s.\n",
    "\n",
    "- Analyzer objecs instantiated for both games (1).\n",
    "- Raw frequencies reported for both (1)."
   ]
  },
  {
   "cell_type": "code",
   "execution_count": 15,
   "id": "b26b8b7e-3be7-4476-a9a4-37d97536729e",
   "metadata": {},
   "outputs": [
    {
     "data": {
      "text/plain": [
       "514"
      ]
     },
     "execution_count": 15,
     "metadata": {},
     "output_type": "execute_result"
    }
   ],
   "source": [
    "fairgameanalyze = AnalyzePlay(fairgame)\n",
    "unfairgameanalyze = AnalyzePlay(unfairgame)\n",
    "fairjackpots = fairgameanalyze.find_jackpots()\n",
    "fairjackpots"
   ]
  },
  {
   "cell_type": "code",
   "execution_count": 16,
   "id": "618c75fe-92ed-450a-8a73-ed184a13ddf1",
   "metadata": {
    "tags": []
   },
   "outputs": [
    {
     "data": {
      "text/plain": [
       "354"
      ]
     },
     "execution_count": 16,
     "metadata": {},
     "output_type": "execute_result"
    }
   ],
   "source": [
    "unfairjackpots = unfairgameanalyze.find_jackpots()\n",
    "unfairjackpots"
   ]
  },
  {
   "cell_type": "markdown",
   "id": "b73d233c-445e-40cd-8858-0c5e1f097105",
   "metadata": {},
   "source": [
    "Task 5. For each analyzer, compute relative frequency as the number of jackpots over the total number of rolls.\n",
    "\n",
    "- Both relative frequencies computed (1)."
   ]
  },
  {
   "cell_type": "code",
   "execution_count": 17,
   "id": "9a96b31b-1b9d-496e-be3e-4bf83c45ec3a",
   "metadata": {},
   "outputs": [],
   "source": [
    "fairgamerelfreq = fairjackpots / 1000\n",
    "unfairgamerelfreq = unfairjackpots / 1000"
   ]
  },
  {
   "cell_type": "markdown",
   "id": "a6e1e734-7f5c-4721-8ba4-2f3a424cf984",
   "metadata": {},
   "source": [
    "Task 6. Show your results, comparing the two relative frequencies, in a simple bar chart.\n",
    "\n",
    "- Bar chart plotted and correct (1)."
   ]
  },
  {
   "cell_type": "code",
   "execution_count": 18,
   "id": "473fa67c-aa53-4aa3-a0b7-e8772b3f6ed3",
   "metadata": {},
   "outputs": [
    {
     "data": {
      "text/plain": [
       "Text(0.5, 1.0, 'Relative Frequency of Fair and Unfair Coins')"
      ]
     },
     "execution_count": 18,
     "metadata": {},
     "output_type": "execute_result"
    },
    {
     "data": {
      "image/png": "[encoded data removed]",
      "text/plain": [
       "<Figure size 640x480 with 1 Axes>"
      ]
     },
     "metadata": {},
     "output_type": "display_data"
    }
   ],
   "source": [
    "plt.bar([\"Fair Game Relative Freq\", \"Unfair Game Relative Freq\"], height = [fairgamerelfreq, unfairgamerelfreq])\n",
    "plt.ylabel(\"Relative Frequency\")\n",
    "plt.title(\"Relative Frequency of Fair and Unfair Coins\")"
   ]
  },
  {
   "cell_type": "markdown",
   "id": "725cfa5b-e4b7-47c9-86aa-8d9e1fe6c8c7",
   "metadata": {},
   "source": [
    "## Scenario 2: A 6-sided Die (9)\n",
    "\n",
    "Task 1. Create three dice, each with six sides having the faces 1 through 6.\n",
    "\n",
    "- Three die objects created (1)."
   ]
  },
  {
   "cell_type": "code",
   "execution_count": 19,
   "id": "6a8bc611-325a-4e05-88d5-980e0a2cf7c5",
   "metadata": {},
   "outputs": [],
   "source": [
    "die1 = CreateDice(np.array([1,2,3,4,5,6]))\n",
    "die2 = CreateDice(np.array([1,2,3,4,5,6]))\n",
    "die3 = CreateDice(np.array([1,2,3,4,5,6]))"
   ]
  },
  {
   "cell_type": "markdown",
   "id": "2ed3ad26-fbe9-43bd-9ad7-f683a4191d12",
   "metadata": {},
   "source": [
    "Task 2. Convert one of the dice to an unfair one by weighting the face $6$ five times more than the other weights (i.e. it has weight of 5 and the others a weight of 1 each).\n",
    "\n",
    "- Unfair die created with proper call to weight change method (1)."
   ]
  },
  {
   "cell_type": "code",
   "execution_count": 20,
   "id": "e33dd18f-7f90-456d-a680-61c08a328e21",
   "metadata": {},
   "outputs": [],
   "source": [
    "die3.change_weights(6, 5)"
   ]
  },
  {
   "cell_type": "markdown",
   "id": "7f6c062a-4c5b-45b9-96b8-76a0354c7e47",
   "metadata": {},
   "source": [
    "Task 3. Convert another of the dice to be unfair by weighting the face $1$ five times more than the others.\n",
    "\n",
    "- Unfair die created with proper call to weight change method (1)."
   ]
  },
  {
   "cell_type": "code",
   "execution_count": 21,
   "id": "01133a4e-6b06-4246-8d90-8e6d6995be51",
   "metadata": {},
   "outputs": [],
   "source": [
    "die2.change_weights(1, 5)"
   ]
  },
  {
   "cell_type": "markdown",
   "id": "f0ed31cb-0a3c-4eb2-b85e-6ed6b2eb6e58",
   "metadata": {},
   "source": [
    "Task 4. Play a game of $10000$ rolls with $5$ fair dice.\n",
    "\n",
    "- Game class properly instantiated (1). \n",
    "- Play method called properly (1)."
   ]
  },
  {
   "cell_type": "code",
   "execution_count": 22,
   "id": "e92395a4-9ed8-4cb0-8c85-38768a784ffc",
   "metadata": {},
   "outputs": [],
   "source": [
    "game2 = GamePlay([die1, die1, die1, die1, die1])\n",
    "game2.play_dice(10000)"
   ]
  },
  {
   "cell_type": "markdown",
   "id": "7814b402-46a4-40e5-8141-20e05c3e646b",
   "metadata": {},
   "source": [
    "Task 5. Play another game of $10000$ rolls, this time with $2$ unfair dice, one as defined in steps #2 and #3 respectively, and $3$ fair dice.\n",
    "\n",
    "- Game class properly instantiated (1). \n",
    "- Play method called properly (1)."
   ]
  },
  {
   "cell_type": "code",
   "execution_count": 23,
   "id": "7cd58fba-b2a5-4d5d-bc6d-2a7a68d18c4f",
   "metadata": {},
   "outputs": [],
   "source": [
    "game3 = GamePlay([die2, die3, die1, die1, die1])\n",
    "game3.play_dice(10000)"
   ]
  },
  {
   "cell_type": "markdown",
   "id": "7b6cd372-2bb8-4df8-ade1-8f48bc300955",
   "metadata": {},
   "source": [
    "Task 6. For each game, use an Analyzer object to determine the relative frequency of jackpots and show your results, comparing the two relative frequencies, in a simple bar chart.\n",
    "\n",
    "- Jackpot methods called (1).\n",
    "- Graph produced (1)."
   ]
  },
  {
   "cell_type": "code",
   "execution_count": 24,
   "id": "bbdcf695-8937-406e-9b53-aa0b9ee3c59a",
   "metadata": {},
   "outputs": [
    {
     "data": {
      "text/plain": [
       "Text(0.5, 1.0, 'Relative Frequency of Fair and Unfair Die')"
      ]
     },
     "execution_count": 24,
     "metadata": {},
     "output_type": "execute_result"
    },
    {
     "data": {
      "image/png": "[encoded data removed]",
      "text/plain": [
       "<Figure size 640x480 with 1 Axes>"
      ]
     },
     "metadata": {},
     "output_type": "display_data"
    }
   ],
   "source": [
    "game2analyze = AnalyzePlay(game2)\n",
    "game3analyze = AnalyzePlay(game3)\n",
    "game2relfreq = game2analyze.find_jackpots() / 10000\n",
    "game3relfreq = game3analyze.find_jackpots() / 10000\n",
    "plt.bar([\"Fair Game Relative Freq\", \"Unfair Game Relative Freq\"], height = [game2relfreq, game3relfreq])\n",
    "plt.ylabel(\"Relative Frequency\")\n",
    "plt.title(\"Relative Frequency of Fair and Unfair Die\")"
   ]
  },
  {
   "cell_type": "markdown",
   "id": "9f04e9be-8fcf-4ea4-a391-6614608285f8",
   "metadata": {},
   "source": [
    "## Scenario 3: Letters of the Alphabet (7)\n",
    "\n",
    "Task 1. Create a \"die\" of letters from $A$ to $Z$ with weights based on their frequency of usage as found in the data file `english_letters.txt`. Use the frequencies (i.e. raw counts) as weights.\n",
    "\n",
    "- Die correctly instantiated with source file data (1).\n",
    "- Weights properly applied using weight setting method (1)."
   ]
  },
  {
   "cell_type": "code",
   "execution_count": 25,
   "id": "b0ceb771-3cdf-4d8f-8c2c-020806bbb909",
   "metadata": {},
   "outputs": [],
   "source": [
    "engletters = pd.read_csv(\"english_letters.txt\", sep=' ', header = None)\n",
    "alphadie = CreateDice(np.array(list(engletters[0])))\n",
    "for letter in engletters.index:\n",
    "    alphadie.change_weights(engletters[0][letter], engletters[1][letter])"
   ]
  },
  {
   "cell_type": "markdown",
   "id": "88e2e14a-6223-470a-a2c8-bca1120d7a5b",
   "metadata": {},
   "source": [
    "Task 2. Play a game involving $4$ of these dice with $1000$ rolls.\n",
    "\n",
    "- Game play method properly called (1)."
   ]
  },
  {
   "cell_type": "code",
   "execution_count": 47,
   "id": "2ae087cc-936d-4f1e-bddb-a7c179d139e0",
   "metadata": {},
   "outputs": [],
   "source": [
    "game4 = GamePlay([alphadie, alphadie, alphadie, alphadie])\n",
    "game4.play_dice(1000)"
   ]
  },
  {
   "cell_type": "markdown",
   "id": "3b9ff800-bf1f-4f66-9d7f-ff57a648e9f0",
   "metadata": {},
   "source": [
    "Task 3. Determine how many permutations in your results are actual English words, based on the vocabulary found in `scrabble_words.txt`.\n",
    "\n",
    "- Use permutation method (1).\n",
    "- Get count as difference between permutations and vocabulary (1)."
   ]
  },
  {
   "cell_type": "code",
   "execution_count": 48,
   "id": "ed1c7fa0-cfa3-4cf4-9fd0-9f84b86b0f64",
   "metadata": {},
   "outputs": [
    {
     "data": {
      "text/plain": [
       "41"
      ]
     },
     "execution_count": 48,
     "metadata": {},
     "output_type": "execute_result"
    }
   ],
   "source": [
    "scrabblewords = pd.read_csv(\"scrabble_words.txt\", header = None)\n",
    "game4analyze = AnalyzePlay(game4)\n",
    "playedwords4 = (game4analyze.count_perm()[0] + game4analyze.count_perm()[1] + game4analyze.count_perm()[2] + game4analyze.count_perm()[3]).to_frame()\n",
    "isinscrabble4 = playedwords4[0].isin(scrabblewords[0])\n",
    "realwordcount4 = sum(isinscrabble4[isinscrabble4 == True])\n",
    "realwordcount4"
   ]
  },
  {
   "cell_type": "markdown",
   "id": "fcf068cf-381a-4b3e-ac3a-0510eb4dbdb0",
   "metadata": {},
   "source": [
    "Task 4. Repeat steps #2 and #3, this time with $5$ dice. How many actual words does this produce? Which produces more?\n",
    "\n",
    "- Successfully repreats steps (1).\n",
    "- Identifies parameter with most found words (1)."
   ]
  },
  {
   "cell_type": "code",
   "execution_count": 49,
   "id": "808c1757-aa8e-42f1-a8b5-5d793f20333c",
   "metadata": {
    "tags": []
   },
   "outputs": [
    {
     "data": {
      "text/plain": [
       "51"
      ]
     },
     "execution_count": 49,
     "metadata": {},
     "output_type": "execute_result"
    }
   ],
   "source": [
    "game5 = GamePlay([alphadie, alphadie, alphadie, alphadie, alphadie])\n",
    "game5.play_dice(1000)\n",
    "game5analyze = AnalyzePlay(game5)\n",
    "playedwords5 = (game5analyze.count_perm()[0] + game5analyze.count_perm()[1] + game5analyze.count_perm()[2] + game5analyze.count_perm()[3]).to_frame()\n",
    "isinscrabble5 = playedwords5[0].isin(scrabblewords[0])\n",
    "realwordcount5 = sum(isinscrabble5[isinscrabble5 == True])\n",
    "realwordcount5"
   ]
  },
  {
   "cell_type": "markdown",
   "id": "619cbc44-a641-4c19-a485-f78d888649f2",
   "metadata": {},
   "source": [
    "Response: The game with 4 alphabet dice produced 41 words that are in the Scrabble words file. The game with 5 alphabet dice produced 51 words that are in the Scrabble words file. The game with 5 dice produced more words that match in the Scrabble words file."
   ]
  },
  {
   "cell_type": "code",
   "execution_count": null,
   "id": "9edd62ee-4dc5-48e5-bc80-c489d09605ca",
   "metadata": {},
   "outputs": [],
   "source": []
  }
 ],
 "metadata": {
  "kernelspec": {
   "display_name": "Python 3 (ipykernel)",
   "language": "python",
   "name": "python3"
  },
  "language_info": {
   "codemirror_mode": {
    "name": "ipython",
    "version": 3
   },
   "file_extension": ".py",
   "mimetype": "text/x-python",
   "name": "python",
   "nbconvert_exporter": "python",
   "pygments_lexer": "ipython3",
   "version": "3.11.4"
  },
  "toc-autonumbering": true,
  "widgets": {
   "application/vnd.jupyter.widget-state+json": {
    "state": {},
    "version_major": 2,
    "version_minor": 0
   }
  }
 },
 "nbformat": 4,
 "nbformat_minor": 5
}
