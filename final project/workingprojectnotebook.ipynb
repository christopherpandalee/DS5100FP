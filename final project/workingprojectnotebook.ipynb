{
 "cells": [
  {
   "cell_type": "code",
   "execution_count": 2,
   "id": "70d44efb-0e36-4426-ba73-a7224210dc90",
   "metadata": {
    "tags": []
   },
   "outputs": [],
   "source": [
    "import numpy as np\n",
    "import pandas as pd"
   ]
  },
  {
   "cell_type": "code",
   "execution_count": 3,
   "id": "ef793767-3d16-4319-ad49-22a7f4ba09a4",
   "metadata": {
    "tags": []
   },
   "outputs": [],
   "source": [
    "class CreateDice:\n",
    "    \n",
    "    def __init__(self, diefaces):\n",
    "        weights = np.ones(len(diefaces))\n",
    "        \n",
    "        if type(diefaces) != np.ndarray:\n",
    "            raise TypeError(\"Not a numpy array\")\n",
    "            \n",
    "        if len(np.unique(diefaces)) != len(diefaces):\n",
    "            raise ValueError(\"Need all unique values\")\n",
    "        \n",
    "        # private attribute -> data frame of die faces as index and current weights of each die face\n",
    "        self._createdDie = pd.DataFrame(weights, columns = [\"weights\"], index = diefaces)\n",
    "        \n",
    "    def change_weights(self, face2change, newWeight):\n",
    "        \n",
    "        if (not any(face2change == self._createdDie.index)): # checks if dice face to change is in existing array of die faces\n",
    "            raise IndexError(\"Die face to change not in existing die faces.\")\n",
    "        \n",
    "        try:\n",
    "            t_newWeight = float(newWeight) # tries to change weight to float\n",
    "            # find index of dice face, then change corresponding weight in weight array\n",
    "            self._createdDie.weights[self._createdDie.index == face2change] = t_newWeight\n",
    "        except:\n",
    "            return \"New weight is not a number.\"\n",
    "        \n",
    "    def roll_dice(self, rolls = 1):\n",
    "        # create probability array so the array of weights sums to 1 -> for use with np.random.choice function below\n",
    "        prob_array = self._createdDie.weights / sum(self._createdDie.weights)\n",
    "        # np.random.choice(array of die faces, # of rolls to do, do not replace the numbers after drawings, probability array)\n",
    "        # rolls the dice the specified number of times, returns a list\n",
    "        return np.random.choice(self._createdDie.index, rolls, p = prob_array).tolist()\n",
    "    \n",
    "    def show_current_state(self):\n",
    "        return self._createdDie\n",
    "                \n"
   ]
  },
  {
   "cell_type": "code",
   "execution_count": 4,
   "id": "b1fa1363-6de9-489f-833d-f62f493a40fb",
   "metadata": {
    "tags": []
   },
   "outputs": [],
   "source": [
    "class GamePlay:\n",
    "    \n",
    "    def __init__(self, listofdice):\n",
    "        self.listofdice = listofdice\n",
    "        # all() -> returns true if everything in list is true, else returns false\n",
    "        # if not all true, ie if at least one is false, raise error\n",
    "        # purpose: checks to make sure all dice in dice list are dice objects from CreateDice class\n",
    "        if not all(isinstance(die, CreateDice) for die in self.listofdice):\n",
    "            raise TypeError(\"Not a dice in list\")\n",
    "        \n",
    "        # because all the dice need to have the same faces, it's arbitrary to pick the first one of the list\n",
    "        # any dice needs to equal any other dice\n",
    "        for die in self.listofdice:\n",
    "            if (all(die.show_current_state().index != self.listofdice[0].show_current_state().index)):\n",
    "                raise ValueError(\"All dice need the same faces\")\n",
    "    \n",
    "    def play_dice(self, numrolls):\n",
    "        self.numrolls = numrolls\n",
    "        self.results = []\n",
    "        \n",
    "        # for each die in initilized list of dice\n",
    "        # append the results of the number of rolls specified in this method\n",
    "        for die in self.listofdice:\n",
    "            self.results.append(die.roll_dice(numrolls))\n",
    "        \n",
    "        self.dicecolumns = [n for n in range(len(self.results))] # dice column names -> index of dice in list of dice\n",
    "        self.resultsT = [list(i) for i in zip(*self.results)] # transposed the results list for data frame constructor\n",
    "        self.diceindex = [\"Roll #\"+str(m) for m in range(1, len(self.resultsT)+1)] # list of index names\n",
    "            \n",
    "        # final data frame construction\n",
    "        self._resultspd = pd.DataFrame(self.resultsT, index = self.diceindex, columns = self.dicecolumns)\n",
    "        self._resultspd.index.name = \"Rolls\"\n",
    "        \n",
    "    def show_results(self, size = \"wide\"):\n",
    "        self.size = size\n",
    "            \n",
    "        try: #tries to convert input to string\n",
    "            t_size = str(self.size)\n",
    "        except:\n",
    "            return \"Narrow or wide only\"\n",
    "        \n",
    "        # if string conversion is successful\n",
    "        # if input is not equal to narrow or wide, throw error\n",
    "        if (t_size.lower() != \"narrow\") & (t_size.lower() != \"wide\") :\n",
    "            raise ValueError(\"Narrow or wide only\")\n",
    "            #raise TypeError(\"Narrow or wide data frame only\")\n",
    "        \n",
    "        if (t_size.lower() == \"narrow\"):\n",
    "            return pd.DataFrame(self._resultspd.stack(), columns = [\"Results\"])\n",
    "        else:\n",
    "            return self._resultspd"
   ]
  },
  {
   "cell_type": "code",
   "execution_count": 5,
   "id": "0be3b091-84ee-41ea-9500-e99ad00a0ab2",
   "metadata": {
    "tags": []
   },
   "outputs": [],
   "source": [
    "class AnalyzePlay:\n",
    "    \n",
    "    def __init__(self, game):\n",
    "        self.game = game\n",
    "        # checks to make sure input for initializer is a game object from GamePlay class\n",
    "        if (not isinstance(game, GamePlay)):\n",
    "            raise TypeError(\"Not a game object.\")\n",
    "            \n",
    "    def find_jackpots(self):\n",
    "        # rolls -> the data frame of roll results from gameplay class\n",
    "        rolls = self.game.show_results()\n",
    "        # df.nuniquie(axis=1) checks the rows. if all values in row are same, returns 1\n",
    "        # rolls[boolean] selects all rows that are the same value\n",
    "        # len() -> number of jackpots\n",
    "        num_jackpots = len(rolls[rolls.nunique(axis=1) == 1])\n",
    "        return num_jackpots\n",
    "    \n",
    "    def find_face_counts(self):\n",
    "        # index for dataframe -> list comprehension using results dataframe indices from GamePlay class\n",
    "        self.countsindex = [\"Roll #\"+str(m+1) for m in range(len(self.game.show_results().index))]\n",
    "        # columns for dataframe -> uses index from one of the dice in the list of dice to get dice faces\n",
    "        # since all the dice are the same, it doesn't matter which one to use\n",
    "        self.countscol = [n for n in self.game.listofdice[0].show_current_state().index]\n",
    "        counts = []\n",
    "        # iterate over rows\n",
    "        for rolls in self.game.show_results().index:\n",
    "            # jfc this method chaining is out of control\n",
    "            # dataframe from GamePlay class - iterate over rows using .loc - counts unique values - sorts unique values by index - add 0s for missing values\n",
    "            # adding 0s method (.reindex) uses same list of dice faces from self.countscol\n",
    "            sorted_counts = self.game.show_results().loc[rolls].value_counts().sort_index().reindex((self.game.listofdice[0].show_current_state().index), fill_value=0)\n",
    "            counts.append(sorted_counts)\n",
    "        # dataframe constructor\n",
    "        self.counts = pd.DataFrame(counts, index = self.countsindex, columns = self.countscol)\n",
    "        return self.counts\n",
    "    \n",
    "    def count_combo(self):\n",
    "        # magic\n",
    "        # results data frame -> apply a sort to each row, by column (axis 1) -> count each sorted row\n",
    "        return pd.DataFrame(self.game.show_results().apply(lambda row: sorted(row.values), axis=1))\n",
    "    \n",
    "    def count_perm(self):\n",
    "        # results data frame -> groupby columns -> size returns each unique row -> reset index renames the newly created column of counts of unique rows\n",
    "        return self.game.show_results().groupby(list(self.game.show_results().columns)).size().reset_index(name=\"count\")\n",
    "        "
   ]
  },
  {
   "cell_type": "code",
   "execution_count": 6,
   "id": "30a46281-ac7a-4892-9f68-419a79d96eed",
   "metadata": {
    "tags": []
   },
   "outputs": [],
   "source": [
    "diefaces = np.array([\"H\", \"T\"])\n",
    "die1 = CreateDice(diefaces)\n",
    "die2 = CreateDice(diefaces)\n",
    "die2.change_weights(\"H\", 5)\n",
    "dielist1 = [die1, die1, die2]"
   ]
  },
  {
   "cell_type": "code",
   "execution_count": 7,
   "id": "1e6e566e-ce23-4169-a580-25ea6deaaf66",
   "metadata": {
    "tags": []
   },
   "outputs": [
    {
     "data": {
      "text/html": [
       "<div>\n",
       "<style scoped>\n",
       "    .dataframe tbody tr th:only-of-type {\n",
       "        vertical-align: middle;\n",
       "    }\n",
       "\n",
       "    .dataframe tbody tr th {\n",
       "        vertical-align: top;\n",
       "    }\n",
       "\n",
       "    .dataframe thead th {\n",
       "        text-align: right;\n",
       "    }\n",
       "</style>\n",
       "<table border=\"1\" class=\"dataframe\">\n",
       "  <thead>\n",
       "    <tr style=\"text-align: right;\">\n",
       "      <th></th>\n",
       "      <th>weights</th>\n",
       "    </tr>\n",
       "  </thead>\n",
       "  <tbody>\n",
       "    <tr>\n",
       "      <th>H</th>\n",
       "      <td>1.0</td>\n",
       "    </tr>\n",
       "    <tr>\n",
       "      <th>T</th>\n",
       "      <td>1.0</td>\n",
       "    </tr>\n",
       "  </tbody>\n",
       "</table>\n",
       "</div>"
      ],
      "text/plain": [
       "   weights\n",
       "H      1.0\n",
       "T      1.0"
      ]
     },
     "execution_count": 7,
     "metadata": {},
     "output_type": "execute_result"
    }
   ],
   "source": [
    "die1.show_current_state()"
   ]
  },
  {
   "cell_type": "code",
   "execution_count": 8,
   "id": "f9ac53de-7be1-4c61-a4ef-6100aaa87b94",
   "metadata": {
    "tags": []
   },
   "outputs": [],
   "source": [
    "game1 = GamePlay(dielist1)"
   ]
  },
  {
   "cell_type": "code",
   "execution_count": 9,
   "id": "4178d049-f9b7-4b3d-83d9-0d03b993c98d",
   "metadata": {},
   "outputs": [],
   "source": [
    "faircoin = CreateDice(np.array([\"H\", \"T\"]))\n",
    "unfaircoin = CreateDice(np.array([\"H\", \"T\"]))\n",
    "unfaircoin.change_weights(\"H\", 5)"
   ]
  },
  {
   "cell_type": "code",
   "execution_count": 10,
   "id": "5762e366-0ec7-45d2-84d7-fc1276acd2a7",
   "metadata": {
    "tags": []
   },
   "outputs": [],
   "source": [
    "fairgame = GamePlay([faircoin, faircoin])\n",
    "fairgame.play_dice(1000)"
   ]
  },
  {
   "cell_type": "code",
   "execution_count": 11,
   "id": "85a6f6fb-deaf-4cf9-88d9-7c632154cef9",
   "metadata": {
    "tags": []
   },
   "outputs": [],
   "source": [
    "unfairgame = GamePlay([unfaircoin, unfaircoin, faircoin])\n",
    "unfairgame.play_dice(1000)"
   ]
  },
  {
   "cell_type": "code",
   "execution_count": 12,
   "id": "cdf9b277-a628-4ee4-a831-c4b5170af025",
   "metadata": {},
   "outputs": [],
   "source": [
    "fairgameanalyze = AnalyzePlay(fairgame)"
   ]
  },
  {
   "cell_type": "code",
   "execution_count": 13,
   "id": "7b401ae5-da67-472b-9255-879cdf2a1f84",
   "metadata": {
    "tags": []
   },
   "outputs": [
    {
     "data": {
      "text/html": [
       "<div>\n",
       "<style scoped>\n",
       "    .dataframe tbody tr th:only-of-type {\n",
       "        vertical-align: middle;\n",
       "    }\n",
       "\n",
       "    .dataframe tbody tr th {\n",
       "        vertical-align: top;\n",
       "    }\n",
       "\n",
       "    .dataframe thead th {\n",
       "        text-align: right;\n",
       "    }\n",
       "</style>\n",
       "<table border=\"1\" class=\"dataframe\">\n",
       "  <thead>\n",
       "    <tr style=\"text-align: right;\">\n",
       "      <th></th>\n",
       "      <th>0</th>\n",
       "    </tr>\n",
       "    <tr>\n",
       "      <th>Rolls</th>\n",
       "      <th></th>\n",
       "    </tr>\n",
       "  </thead>\n",
       "  <tbody>\n",
       "    <tr>\n",
       "      <th>Roll #1</th>\n",
       "      <td>[T, T]</td>\n",
       "    </tr>\n",
       "    <tr>\n",
       "      <th>Roll #2</th>\n",
       "      <td>[H, T]</td>\n",
       "    </tr>\n",
       "    <tr>\n",
       "      <th>Roll #3</th>\n",
       "      <td>[H, T]</td>\n",
       "    </tr>\n",
       "    <tr>\n",
       "      <th>Roll #4</th>\n",
       "      <td>[H, H]</td>\n",
       "    </tr>\n",
       "    <tr>\n",
       "      <th>Roll #5</th>\n",
       "      <td>[H, T]</td>\n",
       "    </tr>\n",
       "    <tr>\n",
       "      <th>...</th>\n",
       "      <td>...</td>\n",
       "    </tr>\n",
       "    <tr>\n",
       "      <th>Roll #996</th>\n",
       "      <td>[T, T]</td>\n",
       "    </tr>\n",
       "    <tr>\n",
       "      <th>Roll #997</th>\n",
       "      <td>[H, T]</td>\n",
       "    </tr>\n",
       "    <tr>\n",
       "      <th>Roll #998</th>\n",
       "      <td>[H, H]</td>\n",
       "    </tr>\n",
       "    <tr>\n",
       "      <th>Roll #999</th>\n",
       "      <td>[T, T]</td>\n",
       "    </tr>\n",
       "    <tr>\n",
       "      <th>Roll #1000</th>\n",
       "      <td>[T, T]</td>\n",
       "    </tr>\n",
       "  </tbody>\n",
       "</table>\n",
       "<p>1000 rows × 1 columns</p>\n",
       "</div>"
      ],
      "text/plain": [
       "                 0\n",
       "Rolls             \n",
       "Roll #1     [T, T]\n",
       "Roll #2     [H, T]\n",
       "Roll #3     [H, T]\n",
       "Roll #4     [H, H]\n",
       "Roll #5     [H, T]\n",
       "...            ...\n",
       "Roll #996   [T, T]\n",
       "Roll #997   [H, T]\n",
       "Roll #998   [H, H]\n",
       "Roll #999   [T, T]\n",
       "Roll #1000  [T, T]\n",
       "\n",
       "[1000 rows x 1 columns]"
      ]
     },
     "execution_count": 13,
     "metadata": {},
     "output_type": "execute_result"
    }
   ],
   "source": [
    "fairgameanalyze.count_combo()"
   ]
  },
  {
   "cell_type": "code",
   "execution_count": 14,
   "id": "0066e54d-1427-4e42-a9e7-75b19528f60b",
   "metadata": {
    "tags": []
   },
   "outputs": [
    {
     "data": {
      "text/html": [
       "<div>\n",
       "<style scoped>\n",
       "    .dataframe tbody tr th:only-of-type {\n",
       "        vertical-align: middle;\n",
       "    }\n",
       "\n",
       "    .dataframe tbody tr th {\n",
       "        vertical-align: top;\n",
       "    }\n",
       "\n",
       "    .dataframe thead th {\n",
       "        text-align: right;\n",
       "    }\n",
       "</style>\n",
       "<table border=\"1\" class=\"dataframe\">\n",
       "  <thead>\n",
       "    <tr style=\"text-align: right;\">\n",
       "      <th></th>\n",
       "      <th>0</th>\n",
       "      <th>1</th>\n",
       "      <th>count</th>\n",
       "    </tr>\n",
       "  </thead>\n",
       "  <tbody>\n",
       "    <tr>\n",
       "      <th>0</th>\n",
       "      <td>H</td>\n",
       "      <td>H</td>\n",
       "      <td>253</td>\n",
       "    </tr>\n",
       "    <tr>\n",
       "      <th>1</th>\n",
       "      <td>H</td>\n",
       "      <td>T</td>\n",
       "      <td>245</td>\n",
       "    </tr>\n",
       "    <tr>\n",
       "      <th>2</th>\n",
       "      <td>T</td>\n",
       "      <td>H</td>\n",
       "      <td>241</td>\n",
       "    </tr>\n",
       "    <tr>\n",
       "      <th>3</th>\n",
       "      <td>T</td>\n",
       "      <td>T</td>\n",
       "      <td>261</td>\n",
       "    </tr>\n",
       "  </tbody>\n",
       "</table>\n",
       "</div>"
      ],
      "text/plain": [
       "   0  1  count\n",
       "0  H  H    253\n",
       "1  H  T    245\n",
       "2  T  H    241\n",
       "3  T  T    261"
      ]
     },
     "execution_count": 14,
     "metadata": {},
     "output_type": "execute_result"
    }
   ],
   "source": [
    "fairgameanalyze.count_perm()"
   ]
  },
  {
   "cell_type": "code",
   "execution_count": null,
   "id": "6702ca21-ec8a-4fc9-bdf0-afe61691c544",
   "metadata": {},
   "outputs": [],
   "source": []
  }
 ],
 "metadata": {
  "kernelspec": {
   "display_name": "Python 3 (ipykernel)",
   "language": "python",
   "name": "python3"
  },
  "language_info": {
   "codemirror_mode": {
    "name": "ipython",
    "version": 3
   },
   "file_extension": ".py",
   "mimetype": "text/x-python",
   "name": "python",
   "nbconvert_exporter": "python",
   "pygments_lexer": "ipython3",
   "version": "3.11.4"
  }
 },
 "nbformat": 4,
 "nbformat_minor": 5
}
