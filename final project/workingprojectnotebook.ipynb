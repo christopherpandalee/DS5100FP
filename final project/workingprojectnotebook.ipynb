{
 "cells": [
  {
   "cell_type": "code",
   "execution_count": 296,
   "id": "70d44efb-0e36-4426-ba73-a7224210dc90",
   "metadata": {
    "tags": []
   },
   "outputs": [],
   "source": [
    "import numpy as np\n",
    "import pandas as pd"
   ]
  },
  {
   "cell_type": "code",
   "execution_count": 297,
   "id": "ef793767-3d16-4319-ad49-22a7f4ba09a4",
   "metadata": {
    "tags": []
   },
   "outputs": [],
   "source": [
    "class CreateDice:\n",
    "    \n",
    "    def __init__(self, diefaces):\n",
    "        weights = np.ones(len(diefaces))\n",
    "        \n",
    "        if type(diefaces) != np.ndarray:\n",
    "            raise TypeError(\"Not a numpy array\")\n",
    "            \n",
    "        if len(np.unique(diefaces)) != len(diefaces):\n",
    "            raise ValueError(\"Need all unique values\")\n",
    "        \n",
    "        # private attribute -> data frame of die faces as index and current weights of each die face\n",
    "        self._createdDie = pd.DataFrame(weights, columns = [\"weights\"], index = diefaces)\n",
    "        \n",
    "    def change_weights(self, face2change, newWeight):\n",
    "        \n",
    "        if (not any(face2change == self._createdDie.index)): # checks if dice face to change is in existing array of die faces\n",
    "            raise IndexError(\"Die face to change not in existing die faces.\")\n",
    "        \n",
    "        try:\n",
    "            t_newWeight = float(newWeight) # tries to change weight to float\n",
    "            # find index of dice face, then change corresponding weight in weight array\n",
    "            self._createdDie.weights[self._createdDie.index == face2change] = t_newWeight\n",
    "        except:\n",
    "            return \"New weight is not a number.\"\n",
    "        \n",
    "    def roll_dice(self, rolls = 1):\n",
    "        # create probability array so the array of weights sums to 1 -> for use with np.random.choice function below\n",
    "        prob_array = self._createdDie.weights / sum(self._createdDie.weights)\n",
    "        # np.random.choice(array of die faces, # of rolls to do, do not replace the numbers after drawings, probability array)\n",
    "        # rolls the dice the specified number of times, returns a list\n",
    "        return np.random.choice(self._createdDie.index, rolls, p = prob_array).tolist()\n",
    "    \n",
    "    def show_current_state(self):\n",
    "        return self._createdDie\n",
    "                \n"
   ]
  },
  {
   "cell_type": "code",
   "execution_count": 298,
   "id": "b1fa1363-6de9-489f-833d-f62f493a40fb",
   "metadata": {
    "tags": []
   },
   "outputs": [],
   "source": [
    "class GamePlay:\n",
    "    \n",
    "    def __init__(self, listofdice):\n",
    "        self.listofdice = listofdice\n",
    "        # all() -> returns true if everything in list is true, else returns false\n",
    "        # if not all true, ie if at least one is false, raise error\n",
    "        # purpose: checks to make sure all dice in dice list are dice objects from CreateDice class\n",
    "        if not all(isinstance(die, CreateDice) for die in self.listofdice):\n",
    "            raise TypeError(\"Not a dice in list\")\n",
    "        \n",
    "        # because all the dice need to have the same faces, it's arbitrary to pick the first one of the list\n",
    "        # any dice needs to equal any other dice\n",
    "        for die in self.listofdice:\n",
    "            if (die != self.listofdice[0]):\n",
    "                raise ValueError(\"All dice need the same faces\")\n",
    "    \n",
    "    def play_dice(self, numrolls):\n",
    "        self.numrolls = numrolls\n",
    "        self.results = []\n",
    "        \n",
    "        # for each die in initilized list of dice\n",
    "        # append the results of the number of rolls specified in this method\n",
    "        for die in self.listofdice:\n",
    "            self.results.append(die.roll_dice(numrolls))\n",
    "        \n",
    "        self.dicecolumns = [n for n in range(len(self.results))] # dice column names -> index of dice in list of dice\n",
    "        self.resultsT = [list(i) for i in zip(*self.results)] # transposed the results list for data frame constructor\n",
    "        self.diceindex = [\"Roll #\"+str(m) for m in range(1, len(self.resultsT)+1)] # list of index names\n",
    "            \n",
    "        # final data frame construction\n",
    "        self._resultspd = pd.DataFrame(self.resultsT, index = self.diceindex, columns = self.dicecolumns)\n",
    "        self._resultspd.index.name = \"Rolls\"\n",
    "        \n",
    "    def show_results(self, size = \"wide\"):\n",
    "        self.size = size\n",
    "            \n",
    "        try: #tries to convert input to string\n",
    "            t_size = str(self.size)\n",
    "        except:\n",
    "            return \"Narrow or wide only\"\n",
    "        \n",
    "        # if string conversion is successful\n",
    "        # if input is not equal to narrow or wide, throw error\n",
    "        if (t_size.lower() != \"narrow\") & (t_size.lower() != \"wide\") :\n",
    "            raise ValueError(\"Narrow or wide only\")\n",
    "            #raise TypeError(\"Narrow or wide data frame only\")\n",
    "        \n",
    "        if (t_size.lower() == \"narrow\"):\n",
    "            return pd.DataFrame(self._resultspd.stack(), columns = [\"Results\"])\n",
    "        else:\n",
    "            return self._resultspd"
   ]
  },
  {
   "cell_type": "code",
   "execution_count": 312,
   "id": "0be3b091-84ee-41ea-9500-e99ad00a0ab2",
   "metadata": {
    "tags": []
   },
   "outputs": [],
   "source": [
    "class AnalyzePlay:\n",
    "    \n",
    "    def __init__(self, game):\n",
    "        self.game = game\n",
    "        # checks to make sure input for initializer is a game object from GamePlay class\n",
    "        if (not isinstance(game, GamePlay)):\n",
    "            raise TypeError(\"Not a game object.\")\n",
    "            \n",
    "    def find_jackpots(self):\n",
    "        # rolls -> the data frame of roll results from gameplay class\n",
    "        rolls = self.game.show_results()\n",
    "        # df.nuniquie(axis=1) checks the rows. if all values in row are same, returns 1\n",
    "        # rolls[boolean] selects all rows that are the same value\n",
    "        # len() -> number of jackpots\n",
    "        num_jackpots = len(rolls[rolls.nunique(axis=1) == 1])\n",
    "        return num_jackpots\n",
    "    \n",
    "    def find_face_counts(self):\n",
    "        # index for dataframe -> list comprehension using results dataframe indices from GamePlay class\n",
    "        self.countsindex = [\"Roll #\"+str(m+1) for m in range(len(self.game.show_results().index))]\n",
    "        # columns for dataframe -> uses index from one of the dice in the list of dice to get dice faces\n",
    "        # since all the dice are the same, it doesn't matter which one to use\n",
    "        self.countscol = [n for n in self.game.listofdice[0].show_current_state().index]\n",
    "        counts = []\n",
    "        # iterate over rows\n",
    "        for rolls in self.game.show_results().index:\n",
    "            # jfc this method chaining is out of control\n",
    "            # dataframe from GamePlay class - iterate over rows using .loc - counts unique values - sorts unique values by index - add 0s for missing values\n",
    "            # adding 0s method (.reindex) uses same list of dice faces from self.countscol\n",
    "            sorted_counts = self.game.show_results().loc[rolls].value_counts().sort_index().reindex((self.game.listofdice[0].show_current_state().index), fill_value=0)\n",
    "            counts.append(sorted_counts)\n",
    "        # dataframe constructor\n",
    "        self.counts = pd.DataFrame(counts, index = self.countsindex, columns = self.countscol)\n",
    "        return self.counts\n",
    "    \n",
    "    def count_combo(self):\n",
    "        # magic\n",
    "        # results data frame -> apply a sort to each row, by column (axis 1) -> count each sorted row\n",
    "        return pd.DataFrame(self.game.show_results().apply(lambda row: sorted(row.values), axis=1).value_counts())\n",
    "    \n",
    "    def count_perm(self):\n",
    "        # results data frame -> groupby columns -> size returns each unique row -> reset index renames the newly created column of counts of unique rows\n",
    "        return pd.DataFrame(self.game.show_results().groupby(list(self.game.show_results().columns)).size().reset_index(name=\"count\"))\n",
    "        "
   ]
  },
  {
   "cell_type": "code",
   "execution_count": 300,
   "id": "30a46281-ac7a-4892-9f68-419a79d96eed",
   "metadata": {
    "tags": []
   },
   "outputs": [],
   "source": [
    "diefaces = np.array([1,2,3,4,5,6])\n",
    "diefaces2 = np.array([1,2,3,4,5,6,7,8,9,10,11,12,13,14,15,16,17,18,19,20])\n",
    "diefaces3 = np.array([11,12,13,14,15,16])\n",
    "diefaces4 = np.array([\"H\", \"T\"])\n",
    "createdDie = CreateDice(diefaces)\n",
    "die2 = CreateDice(diefaces2)\n",
    "die3 = CreateDice(diefaces)\n",
    "die4 = CreateDice(diefaces3)\n",
    "die5 = CreateDice(diefaces4)\n",
    "dielist = [createdDie, die2, die3, die4]\n",
    "dielist2 = [die2, die2, die2, die2, die2, die2, die2, die2, die2, die2]\n",
    "dielist3 = [createdDie, createdDie, createdDie, createdDie, createdDie]\n",
    "dielist4 = [die5, die5, die5]"
   ]
  },
  {
   "cell_type": "code",
   "execution_count": 301,
   "id": "5d3ab872-4704-4fe1-8dbe-4775443a3dfb",
   "metadata": {
    "tags": []
   },
   "outputs": [
    {
     "data": {
      "text/plain": [
       "list"
      ]
     },
     "execution_count": 301,
     "metadata": {},
     "output_type": "execute_result"
    }
   ],
   "source": [
    "type(die5.roll_dice(5))"
   ]
  },
  {
   "cell_type": "code",
   "execution_count": 302,
   "id": "f9ac53de-7be1-4c61-a4ef-6100aaa87b94",
   "metadata": {
    "tags": []
   },
   "outputs": [],
   "source": [
    "game1 = GamePlay(dielist2)\n",
    "game2 = GamePlay(dielist3)\n",
    "game3 = GamePlay(dielist4)"
   ]
  },
  {
   "cell_type": "code",
   "execution_count": 303,
   "id": "1b71d547-dbec-4dab-bd54-de4924506c0e",
   "metadata": {
    "tags": []
   },
   "outputs": [],
   "source": [
    "test = game1.play_dice(5)\n",
    "test2 = game2.play_dice(5)\n",
    "test3 = game3.play_dice(5)"
   ]
  },
  {
   "cell_type": "code",
   "execution_count": 304,
   "id": "be308599-2faf-4e4e-a193-ce570d3d3183",
   "metadata": {
    "tags": []
   },
   "outputs": [
    {
     "data": {
      "text/html": [
       "<div>\n",
       "<style scoped>\n",
       "    .dataframe tbody tr th:only-of-type {\n",
       "        vertical-align: middle;\n",
       "    }\n",
       "\n",
       "    .dataframe tbody tr th {\n",
       "        vertical-align: top;\n",
       "    }\n",
       "\n",
       "    .dataframe thead th {\n",
       "        text-align: right;\n",
       "    }\n",
       "</style>\n",
       "<table border=\"1\" class=\"dataframe\">\n",
       "  <thead>\n",
       "    <tr style=\"text-align: right;\">\n",
       "      <th></th>\n",
       "      <th>0</th>\n",
       "      <th>1</th>\n",
       "      <th>2</th>\n",
       "    </tr>\n",
       "    <tr>\n",
       "      <th>Rolls</th>\n",
       "      <th></th>\n",
       "      <th></th>\n",
       "      <th></th>\n",
       "    </tr>\n",
       "  </thead>\n",
       "  <tbody>\n",
       "    <tr>\n",
       "      <th>Roll #1</th>\n",
       "      <td>T</td>\n",
       "      <td>H</td>\n",
       "      <td>T</td>\n",
       "    </tr>\n",
       "    <tr>\n",
       "      <th>Roll #2</th>\n",
       "      <td>T</td>\n",
       "      <td>H</td>\n",
       "      <td>H</td>\n",
       "    </tr>\n",
       "    <tr>\n",
       "      <th>Roll #3</th>\n",
       "      <td>H</td>\n",
       "      <td>T</td>\n",
       "      <td>H</td>\n",
       "    </tr>\n",
       "    <tr>\n",
       "      <th>Roll #4</th>\n",
       "      <td>H</td>\n",
       "      <td>H</td>\n",
       "      <td>H</td>\n",
       "    </tr>\n",
       "    <tr>\n",
       "      <th>Roll #5</th>\n",
       "      <td>T</td>\n",
       "      <td>T</td>\n",
       "      <td>T</td>\n",
       "    </tr>\n",
       "  </tbody>\n",
       "</table>\n",
       "</div>"
      ],
      "text/plain": [
       "         0  1  2\n",
       "Rolls           \n",
       "Roll #1  T  H  T\n",
       "Roll #2  T  H  H\n",
       "Roll #3  H  T  H\n",
       "Roll #4  H  H  H\n",
       "Roll #5  T  T  T"
      ]
     },
     "execution_count": 304,
     "metadata": {},
     "output_type": "execute_result"
    }
   ],
   "source": [
    "game3.show_results()"
   ]
  },
  {
   "cell_type": "code",
   "execution_count": 305,
   "id": "57259209-5e2a-431f-aabc-22651a26a364",
   "metadata": {
    "tags": []
   },
   "outputs": [
    {
     "data": {
      "text/plain": [
       "Rolls\n",
       "Roll #1    [T, H, T]\n",
       "Roll #2    [T, H, H]\n",
       "Roll #3    [H, T, H]\n",
       "Roll #4    [H, H, H]\n",
       "Roll #5    [T, T, T]\n",
       "dtype: object"
      ]
     },
     "execution_count": 305,
     "metadata": {},
     "output_type": "execute_result"
    }
   ],
   "source": [
    "game3.show_results().apply(lambda x: x.values, axis=1).sort_index()"
   ]
  },
  {
   "cell_type": "code",
   "execution_count": 306,
   "id": "f2cbce35-e541-4575-a5fc-fd46afd3da8f",
   "metadata": {
    "tags": []
   },
   "outputs": [
    {
     "data": {
      "text/html": [
       "<div>\n",
       "<style scoped>\n",
       "    .dataframe tbody tr th:only-of-type {\n",
       "        vertical-align: middle;\n",
       "    }\n",
       "\n",
       "    .dataframe tbody tr th {\n",
       "        vertical-align: top;\n",
       "    }\n",
       "\n",
       "    .dataframe thead th {\n",
       "        text-align: right;\n",
       "    }\n",
       "</style>\n",
       "<table border=\"1\" class=\"dataframe\">\n",
       "  <thead>\n",
       "    <tr style=\"text-align: right;\">\n",
       "      <th></th>\n",
       "      <th>index</th>\n",
       "      <th>count</th>\n",
       "    </tr>\n",
       "  </thead>\n",
       "  <tbody>\n",
       "    <tr>\n",
       "      <th>0</th>\n",
       "      <td>[H, H, T]</td>\n",
       "      <td>2</td>\n",
       "    </tr>\n",
       "    <tr>\n",
       "      <th>1</th>\n",
       "      <td>[H, T, T]</td>\n",
       "      <td>1</td>\n",
       "    </tr>\n",
       "    <tr>\n",
       "      <th>2</th>\n",
       "      <td>[H, H, H]</td>\n",
       "      <td>1</td>\n",
       "    </tr>\n",
       "    <tr>\n",
       "      <th>3</th>\n",
       "      <td>[T, T, T]</td>\n",
       "      <td>1</td>\n",
       "    </tr>\n",
       "  </tbody>\n",
       "</table>\n",
       "</div>"
      ],
      "text/plain": [
       "       index  count\n",
       "0  [H, H, T]      2\n",
       "1  [H, T, T]      1\n",
       "2  [H, H, H]      1\n",
       "3  [T, T, T]      1"
      ]
     },
     "execution_count": 306,
     "metadata": {},
     "output_type": "execute_result"
    }
   ],
   "source": [
    "game3.show_results().apply(lambda row: sorted(row.values), axis=1).value_counts().reset_index(name=\"count\")"
   ]
  },
  {
   "cell_type": "code",
   "execution_count": 307,
   "id": "014987b0-9e1d-4b4a-b18a-4c9f16c2d8da",
   "metadata": {
    "tags": []
   },
   "outputs": [
    {
     "data": {
      "text/plain": [
       "[1, 1, 1, 1, 1]"
      ]
     },
     "execution_count": 307,
     "metadata": {},
     "output_type": "execute_result"
    }
   ],
   "source": [
    "sorted(game3.show_results().value_counts())"
   ]
  },
  {
   "cell_type": "code",
   "execution_count": 308,
   "id": "2e383926-3d59-4dd1-a976-72c4748cd522",
   "metadata": {
    "tags": []
   },
   "outputs": [
    {
     "data": {
      "text/plain": [
       "0  1  2\n",
       "H  H  H    1\n",
       "   T  H    1\n",
       "T  H  H    1\n",
       "      T    1\n",
       "   T  T    1\n",
       "Name: count, dtype: int64"
      ]
     },
     "execution_count": 308,
     "metadata": {},
     "output_type": "execute_result"
    }
   ],
   "source": [
    "game3.show_results().sort_values(list(game3.show_results().columns)).reset_index(drop=True).value_counts()"
   ]
  },
  {
   "cell_type": "code",
   "execution_count": 309,
   "id": "2f101b73-8cb1-41ad-8a25-c08bd285192e",
   "metadata": {},
   "outputs": [],
   "source": [
    "analyzetest = AnalyzePlay(game3)"
   ]
  },
  {
   "cell_type": "code",
   "execution_count": 310,
   "id": "29e8b47a-7296-4c75-8639-3e02e1fb919c",
   "metadata": {},
   "outputs": [
    {
     "data": {
      "text/html": [
       "<div>\n",
       "<style scoped>\n",
       "    .dataframe tbody tr th:only-of-type {\n",
       "        vertical-align: middle;\n",
       "    }\n",
       "\n",
       "    .dataframe tbody tr th {\n",
       "        vertical-align: top;\n",
       "    }\n",
       "\n",
       "    .dataframe thead th {\n",
       "        text-align: right;\n",
       "    }\n",
       "</style>\n",
       "<table border=\"1\" class=\"dataframe\">\n",
       "  <thead>\n",
       "    <tr style=\"text-align: right;\">\n",
       "      <th></th>\n",
       "      <th>count</th>\n",
       "    </tr>\n",
       "  </thead>\n",
       "  <tbody>\n",
       "    <tr>\n",
       "      <th>[H, H, T]</th>\n",
       "      <td>2</td>\n",
       "    </tr>\n",
       "    <tr>\n",
       "      <th>[H, T, T]</th>\n",
       "      <td>1</td>\n",
       "    </tr>\n",
       "    <tr>\n",
       "      <th>[H, H, H]</th>\n",
       "      <td>1</td>\n",
       "    </tr>\n",
       "    <tr>\n",
       "      <th>[T, T, T]</th>\n",
       "      <td>1</td>\n",
       "    </tr>\n",
       "  </tbody>\n",
       "</table>\n",
       "</div>"
      ],
      "text/plain": [
       "           count\n",
       "[H, H, T]      2\n",
       "[H, T, T]      1\n",
       "[H, H, H]      1\n",
       "[T, T, T]      1"
      ]
     },
     "execution_count": 310,
     "metadata": {},
     "output_type": "execute_result"
    }
   ],
   "source": [
    "analyzetest.count_combo()"
   ]
  },
  {
   "cell_type": "code",
   "execution_count": 311,
   "id": "3edd4780-f263-4fae-be9c-9242f494ba79",
   "metadata": {},
   "outputs": [
    {
     "data": {
      "text/html": [
       "<div>\n",
       "<style scoped>\n",
       "    .dataframe tbody tr th:only-of-type {\n",
       "        vertical-align: middle;\n",
       "    }\n",
       "\n",
       "    .dataframe tbody tr th {\n",
       "        vertical-align: top;\n",
       "    }\n",
       "\n",
       "    .dataframe thead th {\n",
       "        text-align: right;\n",
       "    }\n",
       "</style>\n",
       "<table border=\"1\" class=\"dataframe\">\n",
       "  <thead>\n",
       "    <tr style=\"text-align: right;\">\n",
       "      <th></th>\n",
       "      <th>0</th>\n",
       "      <th>1</th>\n",
       "      <th>2</th>\n",
       "      <th>count</th>\n",
       "    </tr>\n",
       "  </thead>\n",
       "  <tbody>\n",
       "    <tr>\n",
       "      <th>0</th>\n",
       "      <td>H</td>\n",
       "      <td>H</td>\n",
       "      <td>H</td>\n",
       "      <td>1</td>\n",
       "    </tr>\n",
       "    <tr>\n",
       "      <th>1</th>\n",
       "      <td>H</td>\n",
       "      <td>T</td>\n",
       "      <td>H</td>\n",
       "      <td>1</td>\n",
       "    </tr>\n",
       "    <tr>\n",
       "      <th>2</th>\n",
       "      <td>T</td>\n",
       "      <td>H</td>\n",
       "      <td>H</td>\n",
       "      <td>1</td>\n",
       "    </tr>\n",
       "    <tr>\n",
       "      <th>3</th>\n",
       "      <td>T</td>\n",
       "      <td>H</td>\n",
       "      <td>T</td>\n",
       "      <td>1</td>\n",
       "    </tr>\n",
       "    <tr>\n",
       "      <th>4</th>\n",
       "      <td>T</td>\n",
       "      <td>T</td>\n",
       "      <td>T</td>\n",
       "      <td>1</td>\n",
       "    </tr>\n",
       "  </tbody>\n",
       "</table>\n",
       "</div>"
      ],
      "text/plain": [
       "   0  1  2  count\n",
       "0  H  H  H      1\n",
       "1  H  T  H      1\n",
       "2  T  H  H      1\n",
       "3  T  H  T      1\n",
       "4  T  T  T      1"
      ]
     },
     "execution_count": 311,
     "metadata": {},
     "output_type": "execute_result"
    }
   ],
   "source": [
    "analyzetest.count_perm()"
   ]
  },
  {
   "cell_type": "code",
   "execution_count": null,
   "id": "4178d049-f9b7-4b3d-83d9-0d03b993c98d",
   "metadata": {},
   "outputs": [],
   "source": []
  }
 ],
 "metadata": {
  "kernelspec": {
   "display_name": "Python 3 (ipykernel)",
   "language": "python",
   "name": "python3"
  },
  "language_info": {
   "codemirror_mode": {
    "name": "ipython",
    "version": 3
   },
   "file_extension": ".py",
   "mimetype": "text/x-python",
   "name": "python",
   "nbconvert_exporter": "python",
   "pygments_lexer": "ipython3",
   "version": "3.11.4"
  }
 },
 "nbformat": 4,
 "nbformat_minor": 5
}
